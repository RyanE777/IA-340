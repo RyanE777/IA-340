{
 "cells": [
  {
   "cell_type": "markdown",
   "id": "afb8345c-f0cd-4241-a104-05fdff34aab8",
   "metadata": {},
   "source": [
    "# Collect Census Data in Python"
   ]
  },
  {
   "cell_type": "markdown",
   "id": "ecde069f-fee0-4f58-b58c-84ace418a81b",
   "metadata": {},
   "source": [
    "Collect Census data with [Census API](https://www.census.gov/data/developers/data-sets.html) and store the information to a PostgreSQL database. "
   ]
  },
  {
   "cell_type": "markdown",
   "id": "e1bcbd95-e324-45ea-b477-a43280ac9849",
   "metadata": {},
   "source": [
    "## Install Python Packages  "
   ]
  },
  {
   "cell_type": "markdown",
   "id": "65f09e5d-ab85-4a79-ad70-7007f561e6a3",
   "metadata": {},
   "source": [
    "- census: a Census API wrapper to call Census APIs\n",
    "- us: a package praovidng US states antd territories names and FIPS codes\n",
    "- psycopg2: PostgreSQL databases adapter to create tables, insert data, and execute queries"
   ]
  },
  {
   "cell_type": "code",
   "execution_count": 1,
   "id": "ddaf2fb3-e157-4ec4-9e10-4d83d9f0a041",
   "metadata": {
    "tags": []
   },
   "outputs": [
    {
     "name": "stdout",
     "output_type": "stream",
     "text": [
      "Collecting census\n",
      "  Downloading census-0.8.24-py3-none-any.whl.metadata (8.2 kB)\n",
      "Requirement already satisfied: requests>=1.1.0 in /home/ec2-user/anaconda3/envs/python3/lib/python3.10/site-packages (from census) (2.32.5)\n",
      "Requirement already satisfied: charset_normalizer<4,>=2 in /home/ec2-user/anaconda3/envs/python3/lib/python3.10/site-packages (from requests>=1.1.0->census) (3.4.3)\n",
      "Requirement already satisfied: idna<4,>=2.5 in /home/ec2-user/anaconda3/envs/python3/lib/python3.10/site-packages (from requests>=1.1.0->census) (3.10)\n",
      "Requirement already satisfied: urllib3<3,>=1.21.1 in /home/ec2-user/anaconda3/envs/python3/lib/python3.10/site-packages (from requests>=1.1.0->census) (2.5.0)\n",
      "Requirement already satisfied: certifi>=2017.4.17 in /home/ec2-user/anaconda3/envs/python3/lib/python3.10/site-packages (from requests>=1.1.0->census) (2025.8.3)\n",
      "Downloading census-0.8.24-py3-none-any.whl (11 kB)\n",
      "Installing collected packages: census\n",
      "Successfully installed census-0.8.24\n",
      "Note: you may need to restart the kernel to use updated packages.\n"
     ]
    }
   ],
   "source": [
    "pip install census"
   ]
  },
  {
   "cell_type": "code",
   "execution_count": 2,
   "id": "6a2aeef7-5c32-4739-9b94-178b70a27f02",
   "metadata": {
    "tags": []
   },
   "outputs": [
    {
     "name": "stdout",
     "output_type": "stream",
     "text": [
      "Collecting us\n",
      "  Downloading us-3.2.0-py3-none-any.whl.metadata (10 kB)\n",
      "Requirement already satisfied: jellyfish in /home/ec2-user/anaconda3/envs/python3/lib/python3.10/site-packages (from us) (1.1.3)\n",
      "Downloading us-3.2.0-py3-none-any.whl (13 kB)\n",
      "Installing collected packages: us\n",
      "Successfully installed us-3.2.0\n",
      "Note: you may need to restart the kernel to use updated packages.\n"
     ]
    }
   ],
   "source": [
    "pip install us"
   ]
  },
  {
   "cell_type": "code",
   "execution_count": 3,
   "id": "6093780b-6de9-4127-be7b-4acd89e809ac",
   "metadata": {
    "tags": []
   },
   "outputs": [
    {
     "name": "stdout",
     "output_type": "stream",
     "text": [
      "Requirement already satisfied: psycopg2 in /home/ec2-user/anaconda3/envs/python3/lib/python3.10/site-packages (2.9.10)\n",
      "Note: you may need to restart the kernel to use updated packages.\n"
     ]
    }
   ],
   "source": [
    "pip install psycopg2"
   ]
  },
  {
   "cell_type": "markdown",
   "id": "116cd886-777a-4812-849d-df0280f10f14",
   "metadata": {},
   "source": [
    "## Secret Manager Function"
   ]
  },
  {
   "cell_type": "code",
   "execution_count": 4,
   "id": "eca16c23-4307-420e-90c0-c9373bed4827",
   "metadata": {
    "tags": []
   },
   "outputs": [],
   "source": [
    "import boto3\n",
    "from botocore.exceptions import ClientError\n",
    "import json\n",
    "\n",
    "def get_secret(secret_name):\n",
    "    region_name = \"us-east-1\"\n",
    "\n",
    "    # Create a Secrets Manager client\n",
    "    session = boto3.session.Session()\n",
    "    client = session.client(\n",
    "        service_name='secretsmanager',\n",
    "        region_name=region_name\n",
    "    )\n",
    "\n",
    "    try:\n",
    "        get_secret_value_response = client.get_secret_value(\n",
    "            SecretId=secret_name\n",
    "        )\n",
    "    except ClientError as e:\n",
    "        raise e\n",
    "\n",
    "    secret = get_secret_value_response['SecretString']\n",
    "    \n",
    "    return json.loads(secret)"
   ]
  },
  {
   "cell_type": "markdown",
   "id": "15a97230-5060-4d06-b635-4e6961bc46bc",
   "metadata": {},
   "source": [
    "## Connect to Database"
   ]
  },
  {
   "cell_type": "code",
   "execution_count": 5,
   "id": "ab275fb0-b2fd-4ca8-a946-404290348761",
   "metadata": {
    "tags": []
   },
   "outputs": [],
   "source": [
    "import psycopg2\n",
    "\n",
    "conn = psycopg2.connect(host=get_secret('postgresql')['host'],\n",
    "                      user=get_secret('postgresql')['username'],\n",
    "                      password = get_secret('postgresql')['password'],\n",
    "                      dbname=get_secret('postgresql')['engine'])\n",
    "\n",
    "cur = conn.cursor()"
   ]
  },
  {
   "cell_type": "markdown",
   "id": "6ecd2469-d08b-49c8-ac75-10b7d182f28f",
   "metadata": {},
   "source": [
    "## Create Tables"
   ]
  },
  {
   "cell_type": "code",
   "execution_count": 6,
   "id": "5c497518-345e-4aa3-ac91-24a9fdd51933",
   "metadata": {
    "tags": []
   },
   "outputs": [],
   "source": [
    "sql = \"\"\"\n",
    "-- Create tables\n",
    "CREATE TABLE IF NOT EXISTS name\n",
    "(\n",
    "    fips VARCHAR(4) NOT NULL UNIQUE,\n",
    "    name VARCHAR(100) UNIQUE,\n",
    "    PRIMARY KEY(fips)\n",
    ");\n",
    "\n",
    "CREATE TABLE IF NOT EXISTS population\n",
    "(\n",
    "    fips VARCHAR(4) NOT NULL,\n",
    "    pop INTEGER NOT NULL,\n",
    "    year INTEGER NOT NULL,\n",
    "    PRIMARY KEY(fips, year)\n",
    ");\n",
    "\n",
    "CREATE TABLE IF NOT EXISTS income\n",
    "(\n",
    "    fips VARCHAR(4) NOT NULL,\n",
    "    income INTEGER NOT NULL,\n",
    "    year INTEGER NOT NULL,\n",
    "    PRIMARY KEY(fips, year)\n",
    ");\n",
    "\n",
    "\n",
    "-- Create FKs\n",
    "ALTER TABLE population\n",
    "    ADD    FOREIGN KEY (fips)\n",
    "    REFERENCES name(fips)\n",
    "    MATCH SIMPLE\n",
    ";\n",
    "    \n",
    "ALTER TABLE income\n",
    "    ADD    FOREIGN KEY (fips)\n",
    "    REFERENCES name(fips)\n",
    "    MATCH SIMPLE\n",
    ";\n",
    "\n",
    "\"\"\""
   ]
  },
  {
   "cell_type": "code",
   "execution_count": 7,
   "id": "95107158-c920-4359-bd1e-379952e4d95f",
   "metadata": {
    "tags": []
   },
   "outputs": [],
   "source": [
    "cur.execute(sql)\n",
    "conn.commit()"
   ]
  },
  {
   "cell_type": "markdown",
   "id": "26f72993-bb09-41e0-a898-083fa60cc48a",
   "metadata": {},
   "source": [
    "## Insert Census Data into Tables"
   ]
  },
  {
   "cell_type": "markdown",
   "id": "c46640e9-cb8a-4388-8e5a-837ff2827430",
   "metadata": {},
   "source": [
    "Load Census API keys"
   ]
  },
  {
   "cell_type": "code",
   "execution_count": 8,
   "id": "96f2bbf5-b320-43e1-9dbc-f9541b5b5f4a",
   "metadata": {
    "tags": []
   },
   "outputs": [],
   "source": [
    "from census import Census\n",
    "from us import states\n",
    "\n",
    "\n",
    "c = Census(get_secret('census')['api_key'])"
   ]
  },
  {
   "cell_type": "markdown",
   "id": "a1477870-c19d-4aad-98f3-3a1ddf1b8a73",
   "metadata": {},
   "source": [
    "Insert state names to the name table."
   ]
  },
  {
   "cell_type": "code",
   "execution_count": 9,
   "id": "ebff05d0-68cb-4d23-9b2a-449133d0b987",
   "metadata": {
    "tags": []
   },
   "outputs": [],
   "source": [
    "for state in states.STATES_AND_TERRITORIES:\n",
    "    sql = f\"\"\"insert into name (name,fips) \n",
    "            values ('{state}','{state.fips}') \"\"\"\n",
    "    cur.execute(sql)\n",
    "    \n",
    "sql = f\"\"\"insert into name (name,fips) \n",
    "            values ('{states.DC.name}','{states.DC.fips}') \"\"\"\n",
    "cur.execute(sql)\n",
    "\n",
    "conn.commit()"
   ]
  },
  {
   "cell_type": "markdown",
   "id": "68fd2a03-061e-4ad8-b6e7-55247e8a8db1",
   "metadata": {},
   "source": [
    "Insert the population data to the population table."
   ]
  },
  {
   "cell_type": "code",
   "execution_count": 16,
   "id": "54f4ff28-12f1-4ca0-8f1e-152d11690693",
   "metadata": {
    "tags": []
   },
   "outputs": [
    {
     "name": "stdout",
     "output_type": "stream",
     "text": [
      "collecting data in year of:  2005\n"
     ]
    },
    {
     "ename": "APIKeyError",
     "evalue": "' <html style=\"font-size: 14px;\">     <head>         <title>Invalid Key</title>         <link rel=\"icon\" type=\"image/x-icon\" href=\"favicon.ico\">         <link rel=\"stylesheet\" type=\"text/css\" href=\"assets/styles.css\">         <script type=\"text/javascript\" src=\"assets/jquery-1.4.4.min.js\"></script>         <script type=\"text/javascript\">             $(document).ready(function() {                 $(\".menu-activator\").click(function() {                     $(\".gov-menu\").toggle()                     $(\".chevron\").toggleClass(\\'rotate\\')                 })                             })         </script>     </head>     <body>         <header>             <div data-v-8adc6fed=\"\" data-v-2f72e816=\"\" class=\"gov-banner noprint\">                 <div data-v-8adc6fed=\"\" class=\"aqua-layout horizontal align-start justify-start banner-header\">                     <img data-v-8adc6fed=\"\" src=\"data:image/png;base64,iVBORw0KGgoAAAANSUhEUgAAABAAAAALCAMAAABBPP0LAAAAG1BMVEUdM7EeNLIeM7HgQCDaPh/bPh/bPx/////bPyBEby41AAAAUElEQVQI123MNw4CABDEwD3jC/9/MQ1BQrgeOSkIqYe2o2FZtthXgQLgbHVMZdlsfUQFQnHtjP1+8BUhBDKOqtmfot6ojqPzR7TjdU+f6vkED+IDPhTBcMAAAAAASUVORK5CYII=\" alt=\"U.S flag\" class=\"usflag\" role=\"img\" aria-hidden=\"true\">                     <span data-v-8adc6fed=\"\">                         <div data-v-8adc6fed=\"\" class=\"aqua-layout horizontal\" tabindex=\"0\">                             <div data-v-8adc6fed=\"\" tabindex=\"0\" aria-label=\"An official website of the United States government\">                                  An official website of the United States government                              </div>                             <div data-v-8adc6fed=\"\" class=\"menu-activator\" aria-label=\"Here\\'s how you know. Press enter for more information.\" tabindex=\"0\">                                 <div data-v-8adc6fed=\"\" class=\"aqua-layout horizontal justify-start\"> Here&rsquo;s how you know <div data-v-8adc6fed=\"\" class=\"chevron\"><img  data-v-8adc6fed=\"\" class=\"aqua-icon\" src=\"assets/images/chevron-down.svg\" style=\"width: 0.75rem; height: 0.75rem; max-height: 0.75rem; transition: all 500ms ease 0s; filter: invert(30%) sepia(8%) saturate(3837%) hue-rotate(171deg) brightness(99%) contrast(89%);\"></div>                                 </div>                             </div>                         </div>                     </span>                 </div>                 <div data-v-8adc6fed=\"\" class=\"aqua-layout horizontal justify-start gov-menu\" style=\"display: none;\"><div data-v-8adc6fed=\"\" class=\"aqua-layout horizontal justify-start menu-paragraph\"><img data-v-8adc6fed=\"\" class=\"menu-svg\" src=\"assets/images/icon-gov-building.svg\" role=\"img\" alt=\"government building image\" aria-hidden=\"true\"><div data-v-8adc6fed=\"\" tabindex=\"0\" aria-label=\"Official websites use .gov. A .gov website belongs to an official government                 organization in the United States.\"><strong data-v-8adc6fed=\"\"> Official websites use .gov </strong>                 <br data-v-8adc6fed=\"\"> A <strong data-v-8adc6fed=\"\">.gov</strong> website belongs to an official government organization in the United States. </div>             </div>             <div data-v-8adc6fed=\"\" class=\"aqua-layout horizontal justify-start menu-paragraph\"><img data-v-8adc6fed=\"\" class=\"menu-svg\" src=\"assets/images/icon-lock.svg\" role=\"img\" alt=\"lock image\" aria-hidden=\"true\">                 <div data-v-8adc6fed=\"\" tabindex=\"0\" aria-label=\"Secure .gov websites use HTTPS. A lock or https:// means youâ\\x80\\x99ve safely connected to the                 .gov website. Share sensitive information only on official, secure                 websites.\"><strong data-v-8adc6fed=\"\"> Secure .gov websites use HTTPS </strong>                 <br data-v-8adc6fed=\"\"> A <strong data-v-8adc6fed=\"\">lock</strong> ( <img data-v-8adc6fed=\"\" class=\"menu-lock\" src=\"assets/images/lock.svg\" role=\"img\" alt=\"lock image\" aria-hidden=\"true\"> ) or <strong data-v-8adc6fed=\"\">https://</strong> means you&lsquo;ve safely connected to the .gov website. Share sensitive information only on official, secure websites. </div>             </div>         </div>     </div>     <div data-v-beed8774=\"\" data-v-2f72e816=\"\" role=\"banner\" class=\"AppHeader noprint\" aqua-relative=\"\">         <div data-v-beed8774=\"\" class=\"aqua-layout horizontal align-center justify-center\"><!---->             <div data-v-beed8774=\"\" class=\"aqua-flex\" style=\"flex: 0 0 auto;\">                 <div data-v-beed8774=\"\" class=\"aqua-layout vertical\">                     <div data-v-beed8774=\"\" class=\"logoArea\">                         <a data-v-fb9b02c5=\"\" data-v-beed8774=\"\" href=\"/\" class=\"\" id=\"census-home-link\">                             <div data-v-fb9b02c5=\"\" style=\"display: none;\"></div>                             <img data-v-beed8774=\"\" class=\"header-logo\" src=\"assets/images/census-logo-gray.svg\" alt=\"United States Census Bureau - Census Data Homepage\">                         </a>                     </div>                 </div>             </div><!----><!---->             <div data-v-beed8774=\"\" class=\"aqua-layout vertical\"></div>         </div>     </div> </div> </header> <div class=\"flex-container content\">     <div class=\"content-wrap center\">         <h1>Invalid Key</h1>         <p>             A valid <em>key</em> must be included with each data API request.             You included a key with this request, however, it is not valid.             Please check your key and try again.         </p>         <p>             If you do not have a key you may sign up for one <a href=\"key_signup.html\">here</a>.         </p>     </div>       </div>  <div data-v-56f1d3f7=\"\" class=\"aqua-flex\" style=\"flex: 0 0 auto;\">     <footer data-v-db923c0a=\"\" data-v-56f1d3f7=\"\" class=\"PageFooter\">         <div data-v-db923c0a=\"\" class=\"aqua-layout align-center justify-center links aqua-text-caption\">             <a data-v-db923c0a=\"\" target=\"_blank\" href=\"https://www.census.gov/about/policies/section-508.html\">Accessibility</a>             <span data-v-db923c0a=\"\" aria-hidden=\"true\">&nbsp;|&nbsp;</span>             <a data-v-db923c0a=\"\" target=\"_blank\" href=\"https://www.census.gov/quality/\">Information Quality</a>             <span data-v-db923c0a=\"\" aria-hidden=\"true\">&nbsp;|&nbsp;</span>             <a data-v-db923c0a=\"\" target=\"_blank\" href=\"https://www.census.gov/foia/\">FOIA</a>             <span data-v-db923c0a=\"\" aria-hidden=\"true\">&nbsp;|&nbsp;</span>             <a data-v-db923c0a=\"\" target=\"_blank\" href=\"https://www.census.gov/privacy/\">Data Protection and Privacy Policy</a>             <span data-v-db923c0a=\"\" aria-hidden=\"true\">&nbsp;|&nbsp;</span>             <a data-v-db923c0a=\"\" target=\"_blank\" href=\"https://www.commerce.gov/\">U.S. Department of Commerce</a>             <span data-v-db923c0a=\"\" aria-hidden=\"true\">&nbsp;|&nbsp;</span>             <a data-v-db923c0a=\"\" target=\"_blank\" href=\"https://www2.census.gov/data/api-documentation/data-census-gov-release-notes.pdf?#\">Release Notes</a>         </div>     </footer> </div>       </body> </html>'",
     "output_type": "error",
     "traceback": [
      "\u001b[0;31m---------------------------------------------------------------------------\u001b[0m",
      "\u001b[0;31mJSONDecodeError\u001b[0m                           Traceback (most recent call last)",
      "File \u001b[0;32m~/anaconda3/envs/python3/lib/python3.10/site-packages/requests/models.py:976\u001b[0m, in \u001b[0;36mResponse.json\u001b[0;34m(self, **kwargs)\u001b[0m\n\u001b[1;32m    975\u001b[0m \u001b[38;5;28;01mtry\u001b[39;00m:\n\u001b[0;32m--> 976\u001b[0m     \u001b[38;5;28;01mreturn\u001b[39;00m \u001b[43mcomplexjson\u001b[49m\u001b[38;5;241;43m.\u001b[39;49m\u001b[43mloads\u001b[49m\u001b[43m(\u001b[49m\u001b[38;5;28;43mself\u001b[39;49m\u001b[38;5;241;43m.\u001b[39;49m\u001b[43mtext\u001b[49m\u001b[43m,\u001b[49m\u001b[43m \u001b[49m\u001b[38;5;241;43m*\u001b[39;49m\u001b[38;5;241;43m*\u001b[39;49m\u001b[43mkwargs\u001b[49m\u001b[43m)\u001b[49m\n\u001b[1;32m    977\u001b[0m \u001b[38;5;28;01mexcept\u001b[39;00m JSONDecodeError \u001b[38;5;28;01mas\u001b[39;00m e:\n\u001b[1;32m    978\u001b[0m     \u001b[38;5;66;03m# Catch JSON-related errors and raise as requests.JSONDecodeError\u001b[39;00m\n\u001b[1;32m    979\u001b[0m     \u001b[38;5;66;03m# This aliases json.JSONDecodeError and simplejson.JSONDecodeError\u001b[39;00m\n",
      "File \u001b[0;32m~/anaconda3/envs/python3/lib/python3.10/json/__init__.py:346\u001b[0m, in \u001b[0;36mloads\u001b[0;34m(s, cls, object_hook, parse_float, parse_int, parse_constant, object_pairs_hook, **kw)\u001b[0m\n\u001b[1;32m    343\u001b[0m \u001b[38;5;28;01mif\u001b[39;00m (\u001b[38;5;28mcls\u001b[39m \u001b[38;5;129;01mis\u001b[39;00m \u001b[38;5;28;01mNone\u001b[39;00m \u001b[38;5;129;01mand\u001b[39;00m object_hook \u001b[38;5;129;01mis\u001b[39;00m \u001b[38;5;28;01mNone\u001b[39;00m \u001b[38;5;129;01mand\u001b[39;00m\n\u001b[1;32m    344\u001b[0m         parse_int \u001b[38;5;129;01mis\u001b[39;00m \u001b[38;5;28;01mNone\u001b[39;00m \u001b[38;5;129;01mand\u001b[39;00m parse_float \u001b[38;5;129;01mis\u001b[39;00m \u001b[38;5;28;01mNone\u001b[39;00m \u001b[38;5;129;01mand\u001b[39;00m\n\u001b[1;32m    345\u001b[0m         parse_constant \u001b[38;5;129;01mis\u001b[39;00m \u001b[38;5;28;01mNone\u001b[39;00m \u001b[38;5;129;01mand\u001b[39;00m object_pairs_hook \u001b[38;5;129;01mis\u001b[39;00m \u001b[38;5;28;01mNone\u001b[39;00m \u001b[38;5;129;01mand\u001b[39;00m \u001b[38;5;129;01mnot\u001b[39;00m kw):\n\u001b[0;32m--> 346\u001b[0m     \u001b[38;5;28;01mreturn\u001b[39;00m \u001b[43m_default_decoder\u001b[49m\u001b[38;5;241;43m.\u001b[39;49m\u001b[43mdecode\u001b[49m\u001b[43m(\u001b[49m\u001b[43ms\u001b[49m\u001b[43m)\u001b[49m\n\u001b[1;32m    347\u001b[0m \u001b[38;5;28;01mif\u001b[39;00m \u001b[38;5;28mcls\u001b[39m \u001b[38;5;129;01mis\u001b[39;00m \u001b[38;5;28;01mNone\u001b[39;00m:\n",
      "File \u001b[0;32m~/anaconda3/envs/python3/lib/python3.10/json/decoder.py:337\u001b[0m, in \u001b[0;36mJSONDecoder.decode\u001b[0;34m(self, s, _w)\u001b[0m\n\u001b[1;32m    333\u001b[0m \u001b[38;5;250m\u001b[39m\u001b[38;5;124;03m\"\"\"Return the Python representation of ``s`` (a ``str`` instance\u001b[39;00m\n\u001b[1;32m    334\u001b[0m \u001b[38;5;124;03mcontaining a JSON document).\u001b[39;00m\n\u001b[1;32m    335\u001b[0m \n\u001b[1;32m    336\u001b[0m \u001b[38;5;124;03m\"\"\"\u001b[39;00m\n\u001b[0;32m--> 337\u001b[0m obj, end \u001b[38;5;241m=\u001b[39m \u001b[38;5;28;43mself\u001b[39;49m\u001b[38;5;241;43m.\u001b[39;49m\u001b[43mraw_decode\u001b[49m\u001b[43m(\u001b[49m\u001b[43ms\u001b[49m\u001b[43m,\u001b[49m\u001b[43m \u001b[49m\u001b[43midx\u001b[49m\u001b[38;5;241;43m=\u001b[39;49m\u001b[43m_w\u001b[49m\u001b[43m(\u001b[49m\u001b[43ms\u001b[49m\u001b[43m,\u001b[49m\u001b[43m \u001b[49m\u001b[38;5;241;43m0\u001b[39;49m\u001b[43m)\u001b[49m\u001b[38;5;241;43m.\u001b[39;49m\u001b[43mend\u001b[49m\u001b[43m(\u001b[49m\u001b[43m)\u001b[49m\u001b[43m)\u001b[49m\n\u001b[1;32m    338\u001b[0m end \u001b[38;5;241m=\u001b[39m _w(s, end)\u001b[38;5;241m.\u001b[39mend()\n",
      "File \u001b[0;32m~/anaconda3/envs/python3/lib/python3.10/json/decoder.py:355\u001b[0m, in \u001b[0;36mJSONDecoder.raw_decode\u001b[0;34m(self, s, idx)\u001b[0m\n\u001b[1;32m    354\u001b[0m \u001b[38;5;28;01mexcept\u001b[39;00m \u001b[38;5;167;01mStopIteration\u001b[39;00m \u001b[38;5;28;01mas\u001b[39;00m err:\n\u001b[0;32m--> 355\u001b[0m     \u001b[38;5;28;01mraise\u001b[39;00m JSONDecodeError(\u001b[38;5;124m\"\u001b[39m\u001b[38;5;124mExpecting value\u001b[39m\u001b[38;5;124m\"\u001b[39m, s, err\u001b[38;5;241m.\u001b[39mvalue) \u001b[38;5;28;01mfrom\u001b[39;00m\u001b[38;5;250m \u001b[39m\u001b[38;5;28;01mNone\u001b[39;00m\n\u001b[1;32m    356\u001b[0m \u001b[38;5;28;01mreturn\u001b[39;00m obj, end\n",
      "\u001b[0;31mJSONDecodeError\u001b[0m: Expecting value: line 2 column 1 (char 1)",
      "\nDuring handling of the above exception, another exception occurred:\n",
      "\u001b[0;31mJSONDecodeError\u001b[0m                           Traceback (most recent call last)",
      "File \u001b[0;32m~/anaconda3/envs/python3/lib/python3.10/site-packages/census/core.py:190\u001b[0m, in \u001b[0;36mClient.query\u001b[0;34m(self, fields, geo, year, sort_by_geoid, **kwargs)\u001b[0m\n\u001b[1;32m    189\u001b[0m \u001b[38;5;28;01mtry\u001b[39;00m:\n\u001b[0;32m--> 190\u001b[0m     data \u001b[38;5;241m=\u001b[39m \u001b[43mresp\u001b[49m\u001b[38;5;241;43m.\u001b[39;49m\u001b[43mjson\u001b[49m\u001b[43m(\u001b[49m\u001b[43m)\u001b[49m\n\u001b[1;32m    191\u001b[0m \u001b[38;5;28;01mexcept\u001b[39;00m \u001b[38;5;167;01mValueError\u001b[39;00m \u001b[38;5;28;01mas\u001b[39;00m ex:\n",
      "File \u001b[0;32m~/anaconda3/envs/python3/lib/python3.10/site-packages/requests/models.py:980\u001b[0m, in \u001b[0;36mResponse.json\u001b[0;34m(self, **kwargs)\u001b[0m\n\u001b[1;32m    977\u001b[0m \u001b[38;5;28;01mexcept\u001b[39;00m JSONDecodeError \u001b[38;5;28;01mas\u001b[39;00m e:\n\u001b[1;32m    978\u001b[0m     \u001b[38;5;66;03m# Catch JSON-related errors and raise as requests.JSONDecodeError\u001b[39;00m\n\u001b[1;32m    979\u001b[0m     \u001b[38;5;66;03m# This aliases json.JSONDecodeError and simplejson.JSONDecodeError\u001b[39;00m\n\u001b[0;32m--> 980\u001b[0m     \u001b[38;5;28;01mraise\u001b[39;00m RequestsJSONDecodeError(e\u001b[38;5;241m.\u001b[39mmsg, e\u001b[38;5;241m.\u001b[39mdoc, e\u001b[38;5;241m.\u001b[39mpos)\n",
      "\u001b[0;31mJSONDecodeError\u001b[0m: Expecting value: line 2 column 1 (char 1)",
      "\nDuring handling of the above exception, another exception occurred:\n",
      "\u001b[0;31mAPIKeyError\u001b[0m                               Traceback (most recent call last)",
      "Cell \u001b[0;32mIn[16], line 3\u001b[0m\n\u001b[1;32m      1\u001b[0m \u001b[38;5;28;01mfor\u001b[39;00m year \u001b[38;5;129;01min\u001b[39;00m \u001b[38;5;28mrange\u001b[39m(\u001b[38;5;241m2005\u001b[39m,\u001b[38;5;241m2020\u001b[39m):\n\u001b[1;32m      2\u001b[0m     \u001b[38;5;28mprint\u001b[39m(\u001b[38;5;124m'\u001b[39m\u001b[38;5;124mcollecting data in year of: \u001b[39m\u001b[38;5;124m'\u001b[39m,year)\n\u001b[0;32m----> 3\u001b[0m     \u001b[38;5;28;01mfor\u001b[39;00m data \u001b[38;5;129;01min\u001b[39;00m \u001b[43mc\u001b[49m\u001b[38;5;241;43m.\u001b[39;49m\u001b[43macs1\u001b[49m\u001b[38;5;241;43m.\u001b[39;49m\u001b[43mget\u001b[49m\u001b[43m(\u001b[49m\u001b[38;5;124;43m'\u001b[39;49m\u001b[38;5;124;43mB01003_001E\u001b[39;49m\u001b[38;5;124;43m'\u001b[39;49m\u001b[43m,\u001b[49m\u001b[43m{\u001b[49m\u001b[38;5;124;43m'\u001b[39;49m\u001b[38;5;124;43mfor\u001b[39;49m\u001b[38;5;124;43m'\u001b[39;49m\u001b[43m:\u001b[49m\u001b[43m \u001b[49m\u001b[38;5;124;43m'\u001b[39;49m\u001b[38;5;124;43mstate:*\u001b[39;49m\u001b[38;5;124;43m'\u001b[39;49m\u001b[43m}\u001b[49m\u001b[43m,\u001b[49m\u001b[43myear\u001b[49m\u001b[38;5;241;43m=\u001b[39;49m\u001b[43myear\u001b[49m\u001b[43m)\u001b[49m:\n\u001b[1;32m      5\u001b[0m         sql \u001b[38;5;241m=\u001b[39m \u001b[38;5;124mf\u001b[39m\u001b[38;5;124m\"\"\"\u001b[39m\u001b[38;5;124minsert into population (fips,pop,year) \u001b[39m\n\u001b[1;32m      6\u001b[0m \u001b[38;5;124m            values (\u001b[39m\u001b[38;5;124m'\u001b[39m\u001b[38;5;132;01m{\u001b[39;00mdata[\u001b[38;5;124m'\u001b[39m\u001b[38;5;124mstate\u001b[39m\u001b[38;5;124m'\u001b[39m]\u001b[38;5;132;01m}\u001b[39;00m\u001b[38;5;124m'\u001b[39m\u001b[38;5;124m,\u001b[39m\u001b[38;5;132;01m{\u001b[39;00mdata[\u001b[38;5;124m'\u001b[39m\u001b[38;5;124mB01003_001E\u001b[39m\u001b[38;5;124m'\u001b[39m]\u001b[38;5;132;01m}\u001b[39;00m\u001b[38;5;124m,\u001b[39m\u001b[38;5;132;01m{\u001b[39;00myear\u001b[38;5;132;01m}\u001b[39;00m\u001b[38;5;124m) \u001b[39m\u001b[38;5;124m\"\"\"\u001b[39m\n\u001b[1;32m      7\u001b[0m \u001b[38;5;66;03m#         print(sql)\u001b[39;00m\n",
      "File \u001b[0;32m~/anaconda3/envs/python3/lib/python3.10/site-packages/census/core.py:325\u001b[0m, in \u001b[0;36mACSClient.get\u001b[0;34m(self, *args, **kwargs)\u001b[0m\n\u001b[1;32m    322\u001b[0m \u001b[38;5;28;01mdef\u001b[39;00m\u001b[38;5;250m \u001b[39m\u001b[38;5;21mget\u001b[39m(\u001b[38;5;28mself\u001b[39m, \u001b[38;5;241m*\u001b[39margs, \u001b[38;5;241m*\u001b[39m\u001b[38;5;241m*\u001b[39mkwargs):\n\u001b[1;32m    323\u001b[0m     \u001b[38;5;28mself\u001b[39m\u001b[38;5;241m.\u001b[39m_switch_endpoints(kwargs\u001b[38;5;241m.\u001b[39mget(\u001b[38;5;124m'\u001b[39m\u001b[38;5;124myear\u001b[39m\u001b[38;5;124m'\u001b[39m, \u001b[38;5;28mself\u001b[39m\u001b[38;5;241m.\u001b[39mdefault_year))\n\u001b[0;32m--> 325\u001b[0m     \u001b[38;5;28;01mreturn\u001b[39;00m \u001b[38;5;28;43msuper\u001b[39;49m\u001b[43m(\u001b[49m\u001b[43mACSClient\u001b[49m\u001b[43m,\u001b[49m\u001b[43m \u001b[49m\u001b[38;5;28;43mself\u001b[39;49m\u001b[43m)\u001b[49m\u001b[38;5;241;43m.\u001b[39;49m\u001b[43mget\u001b[49m\u001b[43m(\u001b[49m\u001b[38;5;241;43m*\u001b[39;49m\u001b[43margs\u001b[49m\u001b[43m,\u001b[49m\u001b[43m \u001b[49m\u001b[38;5;241;43m*\u001b[39;49m\u001b[38;5;241;43m*\u001b[39;49m\u001b[43mkwargs\u001b[49m\u001b[43m)\u001b[49m\n",
      "File \u001b[0;32m~/anaconda3/envs/python3/lib/python3.10/site-packages/census/core.py:159\u001b[0m, in \u001b[0;36mClient.get\u001b[0;34m(self, fields, geo, year, **kwargs)\u001b[0m\n\u001b[1;32m    156\u001b[0m sort_by_geoid \u001b[38;5;241m=\u001b[39m \u001b[38;5;28mlen\u001b[39m(fields) \u001b[38;5;241m>\u001b[39m \u001b[38;5;241m49\u001b[39m \u001b[38;5;129;01mand\u001b[39;00m (\u001b[38;5;129;01mnot\u001b[39;00m year \u001b[38;5;129;01mor\u001b[39;00m year \u001b[38;5;241m>\u001b[39m \u001b[38;5;241m2009\u001b[39m)\n\u001b[1;32m    157\u001b[0m all_results \u001b[38;5;241m=\u001b[39m (\u001b[38;5;28mself\u001b[39m\u001b[38;5;241m.\u001b[39mquery(forty_nine_fields, geo, year, sort_by_geoid\u001b[38;5;241m=\u001b[39msort_by_geoid, \u001b[38;5;241m*\u001b[39m\u001b[38;5;241m*\u001b[39mkwargs)\n\u001b[1;32m    158\u001b[0m                \u001b[38;5;28;01mfor\u001b[39;00m forty_nine_fields \u001b[38;5;129;01min\u001b[39;00m chunks(fields, \u001b[38;5;241m49\u001b[39m))\n\u001b[0;32m--> 159\u001b[0m merged_results \u001b[38;5;241m=\u001b[39m [merge(result) \u001b[38;5;28;01mfor\u001b[39;00m result \u001b[38;5;129;01min\u001b[39;00m \u001b[38;5;28;43mzip\u001b[39;49m\u001b[43m(\u001b[49m\u001b[38;5;241;43m*\u001b[39;49m\u001b[43mall_results\u001b[49m\u001b[43m)\u001b[49m]\n\u001b[1;32m    161\u001b[0m \u001b[38;5;28;01mreturn\u001b[39;00m merged_results\n",
      "File \u001b[0;32m~/anaconda3/envs/python3/lib/python3.10/site-packages/census/core.py:157\u001b[0m, in \u001b[0;36m<genexpr>\u001b[0;34m(.0)\u001b[0m\n\u001b[1;32m    150\u001b[0m \u001b[38;5;250m\u001b[39m\u001b[38;5;124;03m\"\"\"\u001b[39;00m\n\u001b[1;32m    151\u001b[0m \u001b[38;5;124;03mThe API only accepts up to 50 fields on each query.\u001b[39;00m\n\u001b[1;32m    152\u001b[0m \u001b[38;5;124;03mChunk requests, and use the unique GEO_ID to match up the chunks\u001b[39;00m\n\u001b[1;32m    153\u001b[0m \u001b[38;5;124;03min case the responses are in different orders.\u001b[39;00m\n\u001b[1;32m    154\u001b[0m \u001b[38;5;124;03mGEO_ID is not reliably present in pre-2010 requests.\u001b[39;00m\n\u001b[1;32m    155\u001b[0m \u001b[38;5;124;03m\"\"\"\u001b[39;00m\n\u001b[1;32m    156\u001b[0m sort_by_geoid \u001b[38;5;241m=\u001b[39m \u001b[38;5;28mlen\u001b[39m(fields) \u001b[38;5;241m>\u001b[39m \u001b[38;5;241m49\u001b[39m \u001b[38;5;129;01mand\u001b[39;00m (\u001b[38;5;129;01mnot\u001b[39;00m year \u001b[38;5;129;01mor\u001b[39;00m year \u001b[38;5;241m>\u001b[39m \u001b[38;5;241m2009\u001b[39m)\n\u001b[0;32m--> 157\u001b[0m all_results \u001b[38;5;241m=\u001b[39m (\u001b[38;5;28;43mself\u001b[39;49m\u001b[38;5;241;43m.\u001b[39;49m\u001b[43mquery\u001b[49m\u001b[43m(\u001b[49m\u001b[43mforty_nine_fields\u001b[49m\u001b[43m,\u001b[49m\u001b[43m \u001b[49m\u001b[43mgeo\u001b[49m\u001b[43m,\u001b[49m\u001b[43m \u001b[49m\u001b[43myear\u001b[49m\u001b[43m,\u001b[49m\u001b[43m \u001b[49m\u001b[43msort_by_geoid\u001b[49m\u001b[38;5;241;43m=\u001b[39;49m\u001b[43msort_by_geoid\u001b[49m\u001b[43m,\u001b[49m\u001b[43m \u001b[49m\u001b[38;5;241;43m*\u001b[39;49m\u001b[38;5;241;43m*\u001b[39;49m\u001b[43mkwargs\u001b[49m\u001b[43m)\u001b[49m\n\u001b[1;32m    158\u001b[0m                \u001b[38;5;28;01mfor\u001b[39;00m forty_nine_fields \u001b[38;5;129;01min\u001b[39;00m chunks(fields, \u001b[38;5;241m49\u001b[39m))\n\u001b[1;32m    159\u001b[0m merged_results \u001b[38;5;241m=\u001b[39m [merge(result) \u001b[38;5;28;01mfor\u001b[39;00m result \u001b[38;5;129;01min\u001b[39;00m \u001b[38;5;28mzip\u001b[39m(\u001b[38;5;241m*\u001b[39mall_results)]\n\u001b[1;32m    161\u001b[0m \u001b[38;5;28;01mreturn\u001b[39;00m merged_results\n",
      "File \u001b[0;32m~/anaconda3/envs/python3/lib/python3.10/site-packages/census/core.py:60\u001b[0m, in \u001b[0;36mretry_on_transient_error.<locals>.wrapper\u001b[0;34m(self, *args, **kwargs)\u001b[0m\n\u001b[1;32m     58\u001b[0m \u001b[38;5;28;01mfor\u001b[39;00m _ \u001b[38;5;129;01min\u001b[39;00m \u001b[38;5;28mrange\u001b[39m(\u001b[38;5;28mmax\u001b[39m(\u001b[38;5;28mself\u001b[39m\u001b[38;5;241m.\u001b[39mretries \u001b[38;5;241m-\u001b[39m \u001b[38;5;241m1\u001b[39m, \u001b[38;5;241m0\u001b[39m)):\n\u001b[1;32m     59\u001b[0m     \u001b[38;5;28;01mtry\u001b[39;00m:\n\u001b[0;32m---> 60\u001b[0m         result \u001b[38;5;241m=\u001b[39m \u001b[43mfunc\u001b[49m\u001b[43m(\u001b[49m\u001b[38;5;28;43mself\u001b[39;49m\u001b[43m,\u001b[49m\u001b[43m \u001b[49m\u001b[38;5;241;43m*\u001b[39;49m\u001b[43margs\u001b[49m\u001b[43m,\u001b[49m\u001b[43m \u001b[49m\u001b[38;5;241;43m*\u001b[39;49m\u001b[38;5;241;43m*\u001b[39;49m\u001b[43mkwargs\u001b[49m\u001b[43m)\u001b[49m\n\u001b[1;32m     61\u001b[0m     \u001b[38;5;28;01mexcept\u001b[39;00m CensusException \u001b[38;5;28;01mas\u001b[39;00m e:\n\u001b[1;32m     62\u001b[0m         \u001b[38;5;28;01mif\u001b[39;00m \u001b[38;5;124m\"\u001b[39m\u001b[38;5;124mThere was an error while running your query.  We\u001b[39m\u001b[38;5;124m'\u001b[39m\u001b[38;5;124mve logged the error and we\u001b[39m\u001b[38;5;124m'\u001b[39m\u001b[38;5;124mll correct it ASAP.  Sorry for the inconvenience.\u001b[39m\u001b[38;5;124m\"\u001b[39m \u001b[38;5;129;01min\u001b[39;00m \u001b[38;5;28mstr\u001b[39m(e):\n",
      "File \u001b[0;32m~/anaconda3/envs/python3/lib/python3.10/site-packages/census/core.py:193\u001b[0m, in \u001b[0;36mClient.query\u001b[0;34m(self, fields, geo, year, sort_by_geoid, **kwargs)\u001b[0m\n\u001b[1;32m    191\u001b[0m \u001b[38;5;28;01mexcept\u001b[39;00m \u001b[38;5;167;01mValueError\u001b[39;00m \u001b[38;5;28;01mas\u001b[39;00m ex:\n\u001b[1;32m    192\u001b[0m     \u001b[38;5;28;01mif\u001b[39;00m \u001b[38;5;124m'\u001b[39m\u001b[38;5;124m<title>Invalid Key</title>\u001b[39m\u001b[38;5;124m'\u001b[39m \u001b[38;5;129;01min\u001b[39;00m resp\u001b[38;5;241m.\u001b[39mtext:\n\u001b[0;32m--> 193\u001b[0m         \u001b[38;5;28;01mraise\u001b[39;00m APIKeyError(\u001b[38;5;124m'\u001b[39m\u001b[38;5;124m \u001b[39m\u001b[38;5;124m'\u001b[39m\u001b[38;5;241m.\u001b[39mjoin(resp\u001b[38;5;241m.\u001b[39mtext\u001b[38;5;241m.\u001b[39msplitlines()))\n\u001b[1;32m    194\u001b[0m     \u001b[38;5;28;01melse\u001b[39;00m:\n\u001b[1;32m    195\u001b[0m         \u001b[38;5;28;01mraise\u001b[39;00m ex\n",
      "\u001b[0;31mAPIKeyError\u001b[0m: ' <html style=\"font-size: 14px;\">     <head>         <title>Invalid Key</title>         <link rel=\"icon\" type=\"image/x-icon\" href=\"favicon.ico\">         <link rel=\"stylesheet\" type=\"text/css\" href=\"assets/styles.css\">         <script type=\"text/javascript\" src=\"assets/jquery-1.4.4.min.js\"></script>         <script type=\"text/javascript\">             $(document).ready(function() {                 $(\".menu-activator\").click(function() {                     $(\".gov-menu\").toggle()                     $(\".chevron\").toggleClass(\\'rotate\\')                 })                             })         </script>     </head>     <body>         <header>             <div data-v-8adc6fed=\"\" data-v-2f72e816=\"\" class=\"gov-banner noprint\">                 <div data-v-8adc6fed=\"\" class=\"aqua-layout horizontal align-start justify-start banner-header\">                     <img data-v-8adc6fed=\"\" src=\"data:image/png;base64,iVBORw0KGgoAAAANSUhEUgAAABAAAAALCAMAAABBPP0LAAAAG1BMVEUdM7EeNLIeM7HgQCDaPh/bPh/bPx/////bPyBEby41AAAAUElEQVQI123MNw4CABDEwD3jC/9/MQ1BQrgeOSkIqYe2o2FZtthXgQLgbHVMZdlsfUQFQnHtjP1+8BUhBDKOqtmfot6ojqPzR7TjdU+f6vkED+IDPhTBcMAAAAAASUVORK5CYII=\" alt=\"U.S flag\" class=\"usflag\" role=\"img\" aria-hidden=\"true\">                     <span data-v-8adc6fed=\"\">                         <div data-v-8adc6fed=\"\" class=\"aqua-layout horizontal\" tabindex=\"0\">                             <div data-v-8adc6fed=\"\" tabindex=\"0\" aria-label=\"An official website of the United States government\">                                  An official website of the United States government                              </div>                             <div data-v-8adc6fed=\"\" class=\"menu-activator\" aria-label=\"Here\\'s how you know. Press enter for more information.\" tabindex=\"0\">                                 <div data-v-8adc6fed=\"\" class=\"aqua-layout horizontal justify-start\"> Here&rsquo;s how you know <div data-v-8adc6fed=\"\" class=\"chevron\"><img  data-v-8adc6fed=\"\" class=\"aqua-icon\" src=\"assets/images/chevron-down.svg\" style=\"width: 0.75rem; height: 0.75rem; max-height: 0.75rem; transition: all 500ms ease 0s; filter: invert(30%) sepia(8%) saturate(3837%) hue-rotate(171deg) brightness(99%) contrast(89%);\"></div>                                 </div>                             </div>                         </div>                     </span>                 </div>                 <div data-v-8adc6fed=\"\" class=\"aqua-layout horizontal justify-start gov-menu\" style=\"display: none;\"><div data-v-8adc6fed=\"\" class=\"aqua-layout horizontal justify-start menu-paragraph\"><img data-v-8adc6fed=\"\" class=\"menu-svg\" src=\"assets/images/icon-gov-building.svg\" role=\"img\" alt=\"government building image\" aria-hidden=\"true\"><div data-v-8adc6fed=\"\" tabindex=\"0\" aria-label=\"Official websites use .gov. A .gov website belongs to an official government                 organization in the United States.\"><strong data-v-8adc6fed=\"\"> Official websites use .gov </strong>                 <br data-v-8adc6fed=\"\"> A <strong data-v-8adc6fed=\"\">.gov</strong> website belongs to an official government organization in the United States. </div>             </div>             <div data-v-8adc6fed=\"\" class=\"aqua-layout horizontal justify-start menu-paragraph\"><img data-v-8adc6fed=\"\" class=\"menu-svg\" src=\"assets/images/icon-lock.svg\" role=\"img\" alt=\"lock image\" aria-hidden=\"true\">                 <div data-v-8adc6fed=\"\" tabindex=\"0\" aria-label=\"Secure .gov websites use HTTPS. A lock or https:// means youâ\\x80\\x99ve safely connected to the                 .gov website. Share sensitive information only on official, secure                 websites.\"><strong data-v-8adc6fed=\"\"> Secure .gov websites use HTTPS </strong>                 <br data-v-8adc6fed=\"\"> A <strong data-v-8adc6fed=\"\">lock</strong> ( <img data-v-8adc6fed=\"\" class=\"menu-lock\" src=\"assets/images/lock.svg\" role=\"img\" alt=\"lock image\" aria-hidden=\"true\"> ) or <strong data-v-8adc6fed=\"\">https://</strong> means you&lsquo;ve safely connected to the .gov website. Share sensitive information only on official, secure websites. </div>             </div>         </div>     </div>     <div data-v-beed8774=\"\" data-v-2f72e816=\"\" role=\"banner\" class=\"AppHeader noprint\" aqua-relative=\"\">         <div data-v-beed8774=\"\" class=\"aqua-layout horizontal align-center justify-center\"><!---->             <div data-v-beed8774=\"\" class=\"aqua-flex\" style=\"flex: 0 0 auto;\">                 <div data-v-beed8774=\"\" class=\"aqua-layout vertical\">                     <div data-v-beed8774=\"\" class=\"logoArea\">                         <a data-v-fb9b02c5=\"\" data-v-beed8774=\"\" href=\"/\" class=\"\" id=\"census-home-link\">                             <div data-v-fb9b02c5=\"\" style=\"display: none;\"></div>                             <img data-v-beed8774=\"\" class=\"header-logo\" src=\"assets/images/census-logo-gray.svg\" alt=\"United States Census Bureau - Census Data Homepage\">                         </a>                     </div>                 </div>             </div><!----><!---->             <div data-v-beed8774=\"\" class=\"aqua-layout vertical\"></div>         </div>     </div> </div> </header> <div class=\"flex-container content\">     <div class=\"content-wrap center\">         <h1>Invalid Key</h1>         <p>             A valid <em>key</em> must be included with each data API request.             You included a key with this request, however, it is not valid.             Please check your key and try again.         </p>         <p>             If you do not have a key you may sign up for one <a href=\"key_signup.html\">here</a>.         </p>     </div>       </div>  <div data-v-56f1d3f7=\"\" class=\"aqua-flex\" style=\"flex: 0 0 auto;\">     <footer data-v-db923c0a=\"\" data-v-56f1d3f7=\"\" class=\"PageFooter\">         <div data-v-db923c0a=\"\" class=\"aqua-layout align-center justify-center links aqua-text-caption\">             <a data-v-db923c0a=\"\" target=\"_blank\" href=\"https://www.census.gov/about/policies/section-508.html\">Accessibility</a>             <span data-v-db923c0a=\"\" aria-hidden=\"true\">&nbsp;|&nbsp;</span>             <a data-v-db923c0a=\"\" target=\"_blank\" href=\"https://www.census.gov/quality/\">Information Quality</a>             <span data-v-db923c0a=\"\" aria-hidden=\"true\">&nbsp;|&nbsp;</span>             <a data-v-db923c0a=\"\" target=\"_blank\" href=\"https://www.census.gov/foia/\">FOIA</a>             <span data-v-db923c0a=\"\" aria-hidden=\"true\">&nbsp;|&nbsp;</span>             <a data-v-db923c0a=\"\" target=\"_blank\" href=\"https://www.census.gov/privacy/\">Data Protection and Privacy Policy</a>             <span data-v-db923c0a=\"\" aria-hidden=\"true\">&nbsp;|&nbsp;</span>             <a data-v-db923c0a=\"\" target=\"_blank\" href=\"https://www.commerce.gov/\">U.S. Department of Commerce</a>             <span data-v-db923c0a=\"\" aria-hidden=\"true\">&nbsp;|&nbsp;</span>             <a data-v-db923c0a=\"\" target=\"_blank\" href=\"https://www2.census.gov/data/api-documentation/data-census-gov-release-notes.pdf?#\">Release Notes</a>         </div>     </footer> </div>       </body> </html>'"
     ]
    }
   ],
   "source": [
    "for year in range(2005,2020):\n",
    "    print('collecting data in year of: ',year)\n",
    "    for data in c.acs1.get('B01003_001E',{'for': 'state:*'},year=year):\n",
    "        \n",
    "        sql = f\"\"\"insert into population (fips,pop,year) \n",
    "            values ('{data['state']}',{data['B01003_001E']},{year}) \"\"\"\n",
    "#         print(sql)\n",
    "        cur.execute(sql)\n",
    "    conn.commit()"
   ]
  },
  {
   "cell_type": "markdown",
   "id": "0a411a31-e0c5-446d-becf-1baee0719454",
   "metadata": {},
   "source": [
    "Insert the median household income into the income table."
   ]
  },
  {
   "cell_type": "code",
   "execution_count": 17,
   "id": "8a49d56f-f7f9-47fb-a47d-8f0a32013e0f",
   "metadata": {
    "tags": []
   },
   "outputs": [
    {
     "name": "stdout",
     "output_type": "stream",
     "text": [
      "collecting data in year of:  2005\n"
     ]
    },
    {
     "ename": "APIKeyError",
     "evalue": "' <html style=\"font-size: 14px;\">     <head>         <title>Invalid Key</title>         <link rel=\"icon\" type=\"image/x-icon\" href=\"favicon.ico\">         <link rel=\"stylesheet\" type=\"text/css\" href=\"assets/styles.css\">         <script type=\"text/javascript\" src=\"assets/jquery-1.4.4.min.js\"></script>         <script type=\"text/javascript\">             $(document).ready(function() {                 $(\".menu-activator\").click(function() {                     $(\".gov-menu\").toggle()                     $(\".chevron\").toggleClass(\\'rotate\\')                 })                             })         </script>     </head>     <body>         <header>             <div data-v-8adc6fed=\"\" data-v-2f72e816=\"\" class=\"gov-banner noprint\">                 <div data-v-8adc6fed=\"\" class=\"aqua-layout horizontal align-start justify-start banner-header\">                     <img data-v-8adc6fed=\"\" src=\"data:image/png;base64,iVBORw0KGgoAAAANSUhEUgAAABAAAAALCAMAAABBPP0LAAAAG1BMVEUdM7EeNLIeM7HgQCDaPh/bPh/bPx/////bPyBEby41AAAAUElEQVQI123MNw4CABDEwD3jC/9/MQ1BQrgeOSkIqYe2o2FZtthXgQLgbHVMZdlsfUQFQnHtjP1+8BUhBDKOqtmfot6ojqPzR7TjdU+f6vkED+IDPhTBcMAAAAAASUVORK5CYII=\" alt=\"U.S flag\" class=\"usflag\" role=\"img\" aria-hidden=\"true\">                     <span data-v-8adc6fed=\"\">                         <div data-v-8adc6fed=\"\" class=\"aqua-layout horizontal\" tabindex=\"0\">                             <div data-v-8adc6fed=\"\" tabindex=\"0\" aria-label=\"An official website of the United States government\">                                  An official website of the United States government                              </div>                             <div data-v-8adc6fed=\"\" class=\"menu-activator\" aria-label=\"Here\\'s how you know. Press enter for more information.\" tabindex=\"0\">                                 <div data-v-8adc6fed=\"\" class=\"aqua-layout horizontal justify-start\"> Here&rsquo;s how you know <div data-v-8adc6fed=\"\" class=\"chevron\"><img  data-v-8adc6fed=\"\" class=\"aqua-icon\" src=\"assets/images/chevron-down.svg\" style=\"width: 0.75rem; height: 0.75rem; max-height: 0.75rem; transition: all 500ms ease 0s; filter: invert(30%) sepia(8%) saturate(3837%) hue-rotate(171deg) brightness(99%) contrast(89%);\"></div>                                 </div>                             </div>                         </div>                     </span>                 </div>                 <div data-v-8adc6fed=\"\" class=\"aqua-layout horizontal justify-start gov-menu\" style=\"display: none;\"><div data-v-8adc6fed=\"\" class=\"aqua-layout horizontal justify-start menu-paragraph\"><img data-v-8adc6fed=\"\" class=\"menu-svg\" src=\"assets/images/icon-gov-building.svg\" role=\"img\" alt=\"government building image\" aria-hidden=\"true\"><div data-v-8adc6fed=\"\" tabindex=\"0\" aria-label=\"Official websites use .gov. A .gov website belongs to an official government                 organization in the United States.\"><strong data-v-8adc6fed=\"\"> Official websites use .gov </strong>                 <br data-v-8adc6fed=\"\"> A <strong data-v-8adc6fed=\"\">.gov</strong> website belongs to an official government organization in the United States. </div>             </div>             <div data-v-8adc6fed=\"\" class=\"aqua-layout horizontal justify-start menu-paragraph\"><img data-v-8adc6fed=\"\" class=\"menu-svg\" src=\"assets/images/icon-lock.svg\" role=\"img\" alt=\"lock image\" aria-hidden=\"true\">                 <div data-v-8adc6fed=\"\" tabindex=\"0\" aria-label=\"Secure .gov websites use HTTPS. A lock or https:// means youâ\\x80\\x99ve safely connected to the                 .gov website. Share sensitive information only on official, secure                 websites.\"><strong data-v-8adc6fed=\"\"> Secure .gov websites use HTTPS </strong>                 <br data-v-8adc6fed=\"\"> A <strong data-v-8adc6fed=\"\">lock</strong> ( <img data-v-8adc6fed=\"\" class=\"menu-lock\" src=\"assets/images/lock.svg\" role=\"img\" alt=\"lock image\" aria-hidden=\"true\"> ) or <strong data-v-8adc6fed=\"\">https://</strong> means you&lsquo;ve safely connected to the .gov website. Share sensitive information only on official, secure websites. </div>             </div>         </div>     </div>     <div data-v-beed8774=\"\" data-v-2f72e816=\"\" role=\"banner\" class=\"AppHeader noprint\" aqua-relative=\"\">         <div data-v-beed8774=\"\" class=\"aqua-layout horizontal align-center justify-center\"><!---->             <div data-v-beed8774=\"\" class=\"aqua-flex\" style=\"flex: 0 0 auto;\">                 <div data-v-beed8774=\"\" class=\"aqua-layout vertical\">                     <div data-v-beed8774=\"\" class=\"logoArea\">                         <a data-v-fb9b02c5=\"\" data-v-beed8774=\"\" href=\"/\" class=\"\" id=\"census-home-link\">                             <div data-v-fb9b02c5=\"\" style=\"display: none;\"></div>                             <img data-v-beed8774=\"\" class=\"header-logo\" src=\"assets/images/census-logo-gray.svg\" alt=\"United States Census Bureau - Census Data Homepage\">                         </a>                     </div>                 </div>             </div><!----><!---->             <div data-v-beed8774=\"\" class=\"aqua-layout vertical\"></div>         </div>     </div> </div> </header> <div class=\"flex-container content\">     <div class=\"content-wrap center\">         <h1>Invalid Key</h1>         <p>             A valid <em>key</em> must be included with each data API request.             You included a key with this request, however, it is not valid.             Please check your key and try again.         </p>         <p>             If you do not have a key you may sign up for one <a href=\"key_signup.html\">here</a>.         </p>     </div>       </div>  <div data-v-56f1d3f7=\"\" class=\"aqua-flex\" style=\"flex: 0 0 auto;\">     <footer data-v-db923c0a=\"\" data-v-56f1d3f7=\"\" class=\"PageFooter\">         <div data-v-db923c0a=\"\" class=\"aqua-layout align-center justify-center links aqua-text-caption\">             <a data-v-db923c0a=\"\" target=\"_blank\" href=\"https://www.census.gov/about/policies/section-508.html\">Accessibility</a>             <span data-v-db923c0a=\"\" aria-hidden=\"true\">&nbsp;|&nbsp;</span>             <a data-v-db923c0a=\"\" target=\"_blank\" href=\"https://www.census.gov/quality/\">Information Quality</a>             <span data-v-db923c0a=\"\" aria-hidden=\"true\">&nbsp;|&nbsp;</span>             <a data-v-db923c0a=\"\" target=\"_blank\" href=\"https://www.census.gov/foia/\">FOIA</a>             <span data-v-db923c0a=\"\" aria-hidden=\"true\">&nbsp;|&nbsp;</span>             <a data-v-db923c0a=\"\" target=\"_blank\" href=\"https://www.census.gov/privacy/\">Data Protection and Privacy Policy</a>             <span data-v-db923c0a=\"\" aria-hidden=\"true\">&nbsp;|&nbsp;</span>             <a data-v-db923c0a=\"\" target=\"_blank\" href=\"https://www.commerce.gov/\">U.S. Department of Commerce</a>             <span data-v-db923c0a=\"\" aria-hidden=\"true\">&nbsp;|&nbsp;</span>             <a data-v-db923c0a=\"\" target=\"_blank\" href=\"https://www2.census.gov/data/api-documentation/data-census-gov-release-notes.pdf?#\">Release Notes</a>         </div>     </footer> </div>       </body> </html>'",
     "output_type": "error",
     "traceback": [
      "\u001b[0;31m---------------------------------------------------------------------------\u001b[0m",
      "\u001b[0;31mJSONDecodeError\u001b[0m                           Traceback (most recent call last)",
      "File \u001b[0;32m~/anaconda3/envs/python3/lib/python3.10/site-packages/requests/models.py:976\u001b[0m, in \u001b[0;36mResponse.json\u001b[0;34m(self, **kwargs)\u001b[0m\n\u001b[1;32m    975\u001b[0m \u001b[38;5;28;01mtry\u001b[39;00m:\n\u001b[0;32m--> 976\u001b[0m     \u001b[38;5;28;01mreturn\u001b[39;00m \u001b[43mcomplexjson\u001b[49m\u001b[38;5;241;43m.\u001b[39;49m\u001b[43mloads\u001b[49m\u001b[43m(\u001b[49m\u001b[38;5;28;43mself\u001b[39;49m\u001b[38;5;241;43m.\u001b[39;49m\u001b[43mtext\u001b[49m\u001b[43m,\u001b[49m\u001b[43m \u001b[49m\u001b[38;5;241;43m*\u001b[39;49m\u001b[38;5;241;43m*\u001b[39;49m\u001b[43mkwargs\u001b[49m\u001b[43m)\u001b[49m\n\u001b[1;32m    977\u001b[0m \u001b[38;5;28;01mexcept\u001b[39;00m JSONDecodeError \u001b[38;5;28;01mas\u001b[39;00m e:\n\u001b[1;32m    978\u001b[0m     \u001b[38;5;66;03m# Catch JSON-related errors and raise as requests.JSONDecodeError\u001b[39;00m\n\u001b[1;32m    979\u001b[0m     \u001b[38;5;66;03m# This aliases json.JSONDecodeError and simplejson.JSONDecodeError\u001b[39;00m\n",
      "File \u001b[0;32m~/anaconda3/envs/python3/lib/python3.10/json/__init__.py:346\u001b[0m, in \u001b[0;36mloads\u001b[0;34m(s, cls, object_hook, parse_float, parse_int, parse_constant, object_pairs_hook, **kw)\u001b[0m\n\u001b[1;32m    343\u001b[0m \u001b[38;5;28;01mif\u001b[39;00m (\u001b[38;5;28mcls\u001b[39m \u001b[38;5;129;01mis\u001b[39;00m \u001b[38;5;28;01mNone\u001b[39;00m \u001b[38;5;129;01mand\u001b[39;00m object_hook \u001b[38;5;129;01mis\u001b[39;00m \u001b[38;5;28;01mNone\u001b[39;00m \u001b[38;5;129;01mand\u001b[39;00m\n\u001b[1;32m    344\u001b[0m         parse_int \u001b[38;5;129;01mis\u001b[39;00m \u001b[38;5;28;01mNone\u001b[39;00m \u001b[38;5;129;01mand\u001b[39;00m parse_float \u001b[38;5;129;01mis\u001b[39;00m \u001b[38;5;28;01mNone\u001b[39;00m \u001b[38;5;129;01mand\u001b[39;00m\n\u001b[1;32m    345\u001b[0m         parse_constant \u001b[38;5;129;01mis\u001b[39;00m \u001b[38;5;28;01mNone\u001b[39;00m \u001b[38;5;129;01mand\u001b[39;00m object_pairs_hook \u001b[38;5;129;01mis\u001b[39;00m \u001b[38;5;28;01mNone\u001b[39;00m \u001b[38;5;129;01mand\u001b[39;00m \u001b[38;5;129;01mnot\u001b[39;00m kw):\n\u001b[0;32m--> 346\u001b[0m     \u001b[38;5;28;01mreturn\u001b[39;00m \u001b[43m_default_decoder\u001b[49m\u001b[38;5;241;43m.\u001b[39;49m\u001b[43mdecode\u001b[49m\u001b[43m(\u001b[49m\u001b[43ms\u001b[49m\u001b[43m)\u001b[49m\n\u001b[1;32m    347\u001b[0m \u001b[38;5;28;01mif\u001b[39;00m \u001b[38;5;28mcls\u001b[39m \u001b[38;5;129;01mis\u001b[39;00m \u001b[38;5;28;01mNone\u001b[39;00m:\n",
      "File \u001b[0;32m~/anaconda3/envs/python3/lib/python3.10/json/decoder.py:337\u001b[0m, in \u001b[0;36mJSONDecoder.decode\u001b[0;34m(self, s, _w)\u001b[0m\n\u001b[1;32m    333\u001b[0m \u001b[38;5;250m\u001b[39m\u001b[38;5;124;03m\"\"\"Return the Python representation of ``s`` (a ``str`` instance\u001b[39;00m\n\u001b[1;32m    334\u001b[0m \u001b[38;5;124;03mcontaining a JSON document).\u001b[39;00m\n\u001b[1;32m    335\u001b[0m \n\u001b[1;32m    336\u001b[0m \u001b[38;5;124;03m\"\"\"\u001b[39;00m\n\u001b[0;32m--> 337\u001b[0m obj, end \u001b[38;5;241m=\u001b[39m \u001b[38;5;28;43mself\u001b[39;49m\u001b[38;5;241;43m.\u001b[39;49m\u001b[43mraw_decode\u001b[49m\u001b[43m(\u001b[49m\u001b[43ms\u001b[49m\u001b[43m,\u001b[49m\u001b[43m \u001b[49m\u001b[43midx\u001b[49m\u001b[38;5;241;43m=\u001b[39;49m\u001b[43m_w\u001b[49m\u001b[43m(\u001b[49m\u001b[43ms\u001b[49m\u001b[43m,\u001b[49m\u001b[43m \u001b[49m\u001b[38;5;241;43m0\u001b[39;49m\u001b[43m)\u001b[49m\u001b[38;5;241;43m.\u001b[39;49m\u001b[43mend\u001b[49m\u001b[43m(\u001b[49m\u001b[43m)\u001b[49m\u001b[43m)\u001b[49m\n\u001b[1;32m    338\u001b[0m end \u001b[38;5;241m=\u001b[39m _w(s, end)\u001b[38;5;241m.\u001b[39mend()\n",
      "File \u001b[0;32m~/anaconda3/envs/python3/lib/python3.10/json/decoder.py:355\u001b[0m, in \u001b[0;36mJSONDecoder.raw_decode\u001b[0;34m(self, s, idx)\u001b[0m\n\u001b[1;32m    354\u001b[0m \u001b[38;5;28;01mexcept\u001b[39;00m \u001b[38;5;167;01mStopIteration\u001b[39;00m \u001b[38;5;28;01mas\u001b[39;00m err:\n\u001b[0;32m--> 355\u001b[0m     \u001b[38;5;28;01mraise\u001b[39;00m JSONDecodeError(\u001b[38;5;124m\"\u001b[39m\u001b[38;5;124mExpecting value\u001b[39m\u001b[38;5;124m\"\u001b[39m, s, err\u001b[38;5;241m.\u001b[39mvalue) \u001b[38;5;28;01mfrom\u001b[39;00m\u001b[38;5;250m \u001b[39m\u001b[38;5;28;01mNone\u001b[39;00m\n\u001b[1;32m    356\u001b[0m \u001b[38;5;28;01mreturn\u001b[39;00m obj, end\n",
      "\u001b[0;31mJSONDecodeError\u001b[0m: Expecting value: line 2 column 1 (char 1)",
      "\nDuring handling of the above exception, another exception occurred:\n",
      "\u001b[0;31mJSONDecodeError\u001b[0m                           Traceback (most recent call last)",
      "File \u001b[0;32m~/anaconda3/envs/python3/lib/python3.10/site-packages/census/core.py:190\u001b[0m, in \u001b[0;36mClient.query\u001b[0;34m(self, fields, geo, year, sort_by_geoid, **kwargs)\u001b[0m\n\u001b[1;32m    189\u001b[0m \u001b[38;5;28;01mtry\u001b[39;00m:\n\u001b[0;32m--> 190\u001b[0m     data \u001b[38;5;241m=\u001b[39m \u001b[43mresp\u001b[49m\u001b[38;5;241;43m.\u001b[39;49m\u001b[43mjson\u001b[49m\u001b[43m(\u001b[49m\u001b[43m)\u001b[49m\n\u001b[1;32m    191\u001b[0m \u001b[38;5;28;01mexcept\u001b[39;00m \u001b[38;5;167;01mValueError\u001b[39;00m \u001b[38;5;28;01mas\u001b[39;00m ex:\n",
      "File \u001b[0;32m~/anaconda3/envs/python3/lib/python3.10/site-packages/requests/models.py:980\u001b[0m, in \u001b[0;36mResponse.json\u001b[0;34m(self, **kwargs)\u001b[0m\n\u001b[1;32m    977\u001b[0m \u001b[38;5;28;01mexcept\u001b[39;00m JSONDecodeError \u001b[38;5;28;01mas\u001b[39;00m e:\n\u001b[1;32m    978\u001b[0m     \u001b[38;5;66;03m# Catch JSON-related errors and raise as requests.JSONDecodeError\u001b[39;00m\n\u001b[1;32m    979\u001b[0m     \u001b[38;5;66;03m# This aliases json.JSONDecodeError and simplejson.JSONDecodeError\u001b[39;00m\n\u001b[0;32m--> 980\u001b[0m     \u001b[38;5;28;01mraise\u001b[39;00m RequestsJSONDecodeError(e\u001b[38;5;241m.\u001b[39mmsg, e\u001b[38;5;241m.\u001b[39mdoc, e\u001b[38;5;241m.\u001b[39mpos)\n",
      "\u001b[0;31mJSONDecodeError\u001b[0m: Expecting value: line 2 column 1 (char 1)",
      "\nDuring handling of the above exception, another exception occurred:\n",
      "\u001b[0;31mAPIKeyError\u001b[0m                               Traceback (most recent call last)",
      "Cell \u001b[0;32mIn[17], line 3\u001b[0m\n\u001b[1;32m      1\u001b[0m \u001b[38;5;28;01mfor\u001b[39;00m year \u001b[38;5;129;01min\u001b[39;00m \u001b[38;5;28mrange\u001b[39m(\u001b[38;5;241m2005\u001b[39m,\u001b[38;5;241m2020\u001b[39m):\n\u001b[1;32m      2\u001b[0m     \u001b[38;5;28mprint\u001b[39m(\u001b[38;5;124m'\u001b[39m\u001b[38;5;124mcollecting data in year of: \u001b[39m\u001b[38;5;124m'\u001b[39m,year)\n\u001b[0;32m----> 3\u001b[0m     \u001b[38;5;28;01mfor\u001b[39;00m data \u001b[38;5;129;01min\u001b[39;00m \u001b[43mc\u001b[49m\u001b[38;5;241;43m.\u001b[39;49m\u001b[43macs1\u001b[49m\u001b[38;5;241;43m.\u001b[39;49m\u001b[43mget\u001b[49m\u001b[43m(\u001b[49m\u001b[38;5;124;43m'\u001b[39;49m\u001b[38;5;124;43mB19013_001E\u001b[39;49m\u001b[38;5;124;43m'\u001b[39;49m\u001b[43m,\u001b[49m\u001b[43m{\u001b[49m\u001b[38;5;124;43m'\u001b[39;49m\u001b[38;5;124;43mfor\u001b[39;49m\u001b[38;5;124;43m'\u001b[39;49m\u001b[43m:\u001b[49m\u001b[43m \u001b[49m\u001b[38;5;124;43m'\u001b[39;49m\u001b[38;5;124;43mstate:*\u001b[39;49m\u001b[38;5;124;43m'\u001b[39;49m\u001b[43m}\u001b[49m\u001b[43m,\u001b[49m\u001b[43myear\u001b[49m\u001b[38;5;241;43m=\u001b[39;49m\u001b[43myear\u001b[49m\u001b[43m)\u001b[49m:\n\u001b[1;32m      5\u001b[0m         sql \u001b[38;5;241m=\u001b[39m \u001b[38;5;124mf\u001b[39m\u001b[38;5;124m\"\"\"\u001b[39m\u001b[38;5;124minsert into income (fips,income,year) \u001b[39m\n\u001b[1;32m      6\u001b[0m \u001b[38;5;124m            values (\u001b[39m\u001b[38;5;124m'\u001b[39m\u001b[38;5;132;01m{\u001b[39;00mdata[\u001b[38;5;124m'\u001b[39m\u001b[38;5;124mstate\u001b[39m\u001b[38;5;124m'\u001b[39m]\u001b[38;5;132;01m}\u001b[39;00m\u001b[38;5;124m'\u001b[39m\u001b[38;5;124m,\u001b[39m\u001b[38;5;132;01m{\u001b[39;00mdata[\u001b[38;5;124m'\u001b[39m\u001b[38;5;124mB19013_001E\u001b[39m\u001b[38;5;124m'\u001b[39m]\u001b[38;5;132;01m}\u001b[39;00m\u001b[38;5;124m,\u001b[39m\u001b[38;5;132;01m{\u001b[39;00myear\u001b[38;5;132;01m}\u001b[39;00m\u001b[38;5;124m) \u001b[39m\u001b[38;5;124m\"\"\"\u001b[39m\n\u001b[1;32m      7\u001b[0m \u001b[38;5;66;03m#         print(sql)\u001b[39;00m\n",
      "File \u001b[0;32m~/anaconda3/envs/python3/lib/python3.10/site-packages/census/core.py:325\u001b[0m, in \u001b[0;36mACSClient.get\u001b[0;34m(self, *args, **kwargs)\u001b[0m\n\u001b[1;32m    322\u001b[0m \u001b[38;5;28;01mdef\u001b[39;00m\u001b[38;5;250m \u001b[39m\u001b[38;5;21mget\u001b[39m(\u001b[38;5;28mself\u001b[39m, \u001b[38;5;241m*\u001b[39margs, \u001b[38;5;241m*\u001b[39m\u001b[38;5;241m*\u001b[39mkwargs):\n\u001b[1;32m    323\u001b[0m     \u001b[38;5;28mself\u001b[39m\u001b[38;5;241m.\u001b[39m_switch_endpoints(kwargs\u001b[38;5;241m.\u001b[39mget(\u001b[38;5;124m'\u001b[39m\u001b[38;5;124myear\u001b[39m\u001b[38;5;124m'\u001b[39m, \u001b[38;5;28mself\u001b[39m\u001b[38;5;241m.\u001b[39mdefault_year))\n\u001b[0;32m--> 325\u001b[0m     \u001b[38;5;28;01mreturn\u001b[39;00m \u001b[38;5;28;43msuper\u001b[39;49m\u001b[43m(\u001b[49m\u001b[43mACSClient\u001b[49m\u001b[43m,\u001b[49m\u001b[43m \u001b[49m\u001b[38;5;28;43mself\u001b[39;49m\u001b[43m)\u001b[49m\u001b[38;5;241;43m.\u001b[39;49m\u001b[43mget\u001b[49m\u001b[43m(\u001b[49m\u001b[38;5;241;43m*\u001b[39;49m\u001b[43margs\u001b[49m\u001b[43m,\u001b[49m\u001b[43m \u001b[49m\u001b[38;5;241;43m*\u001b[39;49m\u001b[38;5;241;43m*\u001b[39;49m\u001b[43mkwargs\u001b[49m\u001b[43m)\u001b[49m\n",
      "File \u001b[0;32m~/anaconda3/envs/python3/lib/python3.10/site-packages/census/core.py:159\u001b[0m, in \u001b[0;36mClient.get\u001b[0;34m(self, fields, geo, year, **kwargs)\u001b[0m\n\u001b[1;32m    156\u001b[0m sort_by_geoid \u001b[38;5;241m=\u001b[39m \u001b[38;5;28mlen\u001b[39m(fields) \u001b[38;5;241m>\u001b[39m \u001b[38;5;241m49\u001b[39m \u001b[38;5;129;01mand\u001b[39;00m (\u001b[38;5;129;01mnot\u001b[39;00m year \u001b[38;5;129;01mor\u001b[39;00m year \u001b[38;5;241m>\u001b[39m \u001b[38;5;241m2009\u001b[39m)\n\u001b[1;32m    157\u001b[0m all_results \u001b[38;5;241m=\u001b[39m (\u001b[38;5;28mself\u001b[39m\u001b[38;5;241m.\u001b[39mquery(forty_nine_fields, geo, year, sort_by_geoid\u001b[38;5;241m=\u001b[39msort_by_geoid, \u001b[38;5;241m*\u001b[39m\u001b[38;5;241m*\u001b[39mkwargs)\n\u001b[1;32m    158\u001b[0m                \u001b[38;5;28;01mfor\u001b[39;00m forty_nine_fields \u001b[38;5;129;01min\u001b[39;00m chunks(fields, \u001b[38;5;241m49\u001b[39m))\n\u001b[0;32m--> 159\u001b[0m merged_results \u001b[38;5;241m=\u001b[39m [merge(result) \u001b[38;5;28;01mfor\u001b[39;00m result \u001b[38;5;129;01min\u001b[39;00m \u001b[38;5;28;43mzip\u001b[39;49m\u001b[43m(\u001b[49m\u001b[38;5;241;43m*\u001b[39;49m\u001b[43mall_results\u001b[49m\u001b[43m)\u001b[49m]\n\u001b[1;32m    161\u001b[0m \u001b[38;5;28;01mreturn\u001b[39;00m merged_results\n",
      "File \u001b[0;32m~/anaconda3/envs/python3/lib/python3.10/site-packages/census/core.py:157\u001b[0m, in \u001b[0;36m<genexpr>\u001b[0;34m(.0)\u001b[0m\n\u001b[1;32m    150\u001b[0m \u001b[38;5;250m\u001b[39m\u001b[38;5;124;03m\"\"\"\u001b[39;00m\n\u001b[1;32m    151\u001b[0m \u001b[38;5;124;03mThe API only accepts up to 50 fields on each query.\u001b[39;00m\n\u001b[1;32m    152\u001b[0m \u001b[38;5;124;03mChunk requests, and use the unique GEO_ID to match up the chunks\u001b[39;00m\n\u001b[1;32m    153\u001b[0m \u001b[38;5;124;03min case the responses are in different orders.\u001b[39;00m\n\u001b[1;32m    154\u001b[0m \u001b[38;5;124;03mGEO_ID is not reliably present in pre-2010 requests.\u001b[39;00m\n\u001b[1;32m    155\u001b[0m \u001b[38;5;124;03m\"\"\"\u001b[39;00m\n\u001b[1;32m    156\u001b[0m sort_by_geoid \u001b[38;5;241m=\u001b[39m \u001b[38;5;28mlen\u001b[39m(fields) \u001b[38;5;241m>\u001b[39m \u001b[38;5;241m49\u001b[39m \u001b[38;5;129;01mand\u001b[39;00m (\u001b[38;5;129;01mnot\u001b[39;00m year \u001b[38;5;129;01mor\u001b[39;00m year \u001b[38;5;241m>\u001b[39m \u001b[38;5;241m2009\u001b[39m)\n\u001b[0;32m--> 157\u001b[0m all_results \u001b[38;5;241m=\u001b[39m (\u001b[38;5;28;43mself\u001b[39;49m\u001b[38;5;241;43m.\u001b[39;49m\u001b[43mquery\u001b[49m\u001b[43m(\u001b[49m\u001b[43mforty_nine_fields\u001b[49m\u001b[43m,\u001b[49m\u001b[43m \u001b[49m\u001b[43mgeo\u001b[49m\u001b[43m,\u001b[49m\u001b[43m \u001b[49m\u001b[43myear\u001b[49m\u001b[43m,\u001b[49m\u001b[43m \u001b[49m\u001b[43msort_by_geoid\u001b[49m\u001b[38;5;241;43m=\u001b[39;49m\u001b[43msort_by_geoid\u001b[49m\u001b[43m,\u001b[49m\u001b[43m \u001b[49m\u001b[38;5;241;43m*\u001b[39;49m\u001b[38;5;241;43m*\u001b[39;49m\u001b[43mkwargs\u001b[49m\u001b[43m)\u001b[49m\n\u001b[1;32m    158\u001b[0m                \u001b[38;5;28;01mfor\u001b[39;00m forty_nine_fields \u001b[38;5;129;01min\u001b[39;00m chunks(fields, \u001b[38;5;241m49\u001b[39m))\n\u001b[1;32m    159\u001b[0m merged_results \u001b[38;5;241m=\u001b[39m [merge(result) \u001b[38;5;28;01mfor\u001b[39;00m result \u001b[38;5;129;01min\u001b[39;00m \u001b[38;5;28mzip\u001b[39m(\u001b[38;5;241m*\u001b[39mall_results)]\n\u001b[1;32m    161\u001b[0m \u001b[38;5;28;01mreturn\u001b[39;00m merged_results\n",
      "File \u001b[0;32m~/anaconda3/envs/python3/lib/python3.10/site-packages/census/core.py:60\u001b[0m, in \u001b[0;36mretry_on_transient_error.<locals>.wrapper\u001b[0;34m(self, *args, **kwargs)\u001b[0m\n\u001b[1;32m     58\u001b[0m \u001b[38;5;28;01mfor\u001b[39;00m _ \u001b[38;5;129;01min\u001b[39;00m \u001b[38;5;28mrange\u001b[39m(\u001b[38;5;28mmax\u001b[39m(\u001b[38;5;28mself\u001b[39m\u001b[38;5;241m.\u001b[39mretries \u001b[38;5;241m-\u001b[39m \u001b[38;5;241m1\u001b[39m, \u001b[38;5;241m0\u001b[39m)):\n\u001b[1;32m     59\u001b[0m     \u001b[38;5;28;01mtry\u001b[39;00m:\n\u001b[0;32m---> 60\u001b[0m         result \u001b[38;5;241m=\u001b[39m \u001b[43mfunc\u001b[49m\u001b[43m(\u001b[49m\u001b[38;5;28;43mself\u001b[39;49m\u001b[43m,\u001b[49m\u001b[43m \u001b[49m\u001b[38;5;241;43m*\u001b[39;49m\u001b[43margs\u001b[49m\u001b[43m,\u001b[49m\u001b[43m \u001b[49m\u001b[38;5;241;43m*\u001b[39;49m\u001b[38;5;241;43m*\u001b[39;49m\u001b[43mkwargs\u001b[49m\u001b[43m)\u001b[49m\n\u001b[1;32m     61\u001b[0m     \u001b[38;5;28;01mexcept\u001b[39;00m CensusException \u001b[38;5;28;01mas\u001b[39;00m e:\n\u001b[1;32m     62\u001b[0m         \u001b[38;5;28;01mif\u001b[39;00m \u001b[38;5;124m\"\u001b[39m\u001b[38;5;124mThere was an error while running your query.  We\u001b[39m\u001b[38;5;124m'\u001b[39m\u001b[38;5;124mve logged the error and we\u001b[39m\u001b[38;5;124m'\u001b[39m\u001b[38;5;124mll correct it ASAP.  Sorry for the inconvenience.\u001b[39m\u001b[38;5;124m\"\u001b[39m \u001b[38;5;129;01min\u001b[39;00m \u001b[38;5;28mstr\u001b[39m(e):\n",
      "File \u001b[0;32m~/anaconda3/envs/python3/lib/python3.10/site-packages/census/core.py:193\u001b[0m, in \u001b[0;36mClient.query\u001b[0;34m(self, fields, geo, year, sort_by_geoid, **kwargs)\u001b[0m\n\u001b[1;32m    191\u001b[0m \u001b[38;5;28;01mexcept\u001b[39;00m \u001b[38;5;167;01mValueError\u001b[39;00m \u001b[38;5;28;01mas\u001b[39;00m ex:\n\u001b[1;32m    192\u001b[0m     \u001b[38;5;28;01mif\u001b[39;00m \u001b[38;5;124m'\u001b[39m\u001b[38;5;124m<title>Invalid Key</title>\u001b[39m\u001b[38;5;124m'\u001b[39m \u001b[38;5;129;01min\u001b[39;00m resp\u001b[38;5;241m.\u001b[39mtext:\n\u001b[0;32m--> 193\u001b[0m         \u001b[38;5;28;01mraise\u001b[39;00m APIKeyError(\u001b[38;5;124m'\u001b[39m\u001b[38;5;124m \u001b[39m\u001b[38;5;124m'\u001b[39m\u001b[38;5;241m.\u001b[39mjoin(resp\u001b[38;5;241m.\u001b[39mtext\u001b[38;5;241m.\u001b[39msplitlines()))\n\u001b[1;32m    194\u001b[0m     \u001b[38;5;28;01melse\u001b[39;00m:\n\u001b[1;32m    195\u001b[0m         \u001b[38;5;28;01mraise\u001b[39;00m ex\n",
      "\u001b[0;31mAPIKeyError\u001b[0m: ' <html style=\"font-size: 14px;\">     <head>         <title>Invalid Key</title>         <link rel=\"icon\" type=\"image/x-icon\" href=\"favicon.ico\">         <link rel=\"stylesheet\" type=\"text/css\" href=\"assets/styles.css\">         <script type=\"text/javascript\" src=\"assets/jquery-1.4.4.min.js\"></script>         <script type=\"text/javascript\">             $(document).ready(function() {                 $(\".menu-activator\").click(function() {                     $(\".gov-menu\").toggle()                     $(\".chevron\").toggleClass(\\'rotate\\')                 })                             })         </script>     </head>     <body>         <header>             <div data-v-8adc6fed=\"\" data-v-2f72e816=\"\" class=\"gov-banner noprint\">                 <div data-v-8adc6fed=\"\" class=\"aqua-layout horizontal align-start justify-start banner-header\">                     <img data-v-8adc6fed=\"\" src=\"data:image/png;base64,iVBORw0KGgoAAAANSUhEUgAAABAAAAALCAMAAABBPP0LAAAAG1BMVEUdM7EeNLIeM7HgQCDaPh/bPh/bPx/////bPyBEby41AAAAUElEQVQI123MNw4CABDEwD3jC/9/MQ1BQrgeOSkIqYe2o2FZtthXgQLgbHVMZdlsfUQFQnHtjP1+8BUhBDKOqtmfot6ojqPzR7TjdU+f6vkED+IDPhTBcMAAAAAASUVORK5CYII=\" alt=\"U.S flag\" class=\"usflag\" role=\"img\" aria-hidden=\"true\">                     <span data-v-8adc6fed=\"\">                         <div data-v-8adc6fed=\"\" class=\"aqua-layout horizontal\" tabindex=\"0\">                             <div data-v-8adc6fed=\"\" tabindex=\"0\" aria-label=\"An official website of the United States government\">                                  An official website of the United States government                              </div>                             <div data-v-8adc6fed=\"\" class=\"menu-activator\" aria-label=\"Here\\'s how you know. Press enter for more information.\" tabindex=\"0\">                                 <div data-v-8adc6fed=\"\" class=\"aqua-layout horizontal justify-start\"> Here&rsquo;s how you know <div data-v-8adc6fed=\"\" class=\"chevron\"><img  data-v-8adc6fed=\"\" class=\"aqua-icon\" src=\"assets/images/chevron-down.svg\" style=\"width: 0.75rem; height: 0.75rem; max-height: 0.75rem; transition: all 500ms ease 0s; filter: invert(30%) sepia(8%) saturate(3837%) hue-rotate(171deg) brightness(99%) contrast(89%);\"></div>                                 </div>                             </div>                         </div>                     </span>                 </div>                 <div data-v-8adc6fed=\"\" class=\"aqua-layout horizontal justify-start gov-menu\" style=\"display: none;\"><div data-v-8adc6fed=\"\" class=\"aqua-layout horizontal justify-start menu-paragraph\"><img data-v-8adc6fed=\"\" class=\"menu-svg\" src=\"assets/images/icon-gov-building.svg\" role=\"img\" alt=\"government building image\" aria-hidden=\"true\"><div data-v-8adc6fed=\"\" tabindex=\"0\" aria-label=\"Official websites use .gov. A .gov website belongs to an official government                 organization in the United States.\"><strong data-v-8adc6fed=\"\"> Official websites use .gov </strong>                 <br data-v-8adc6fed=\"\"> A <strong data-v-8adc6fed=\"\">.gov</strong> website belongs to an official government organization in the United States. </div>             </div>             <div data-v-8adc6fed=\"\" class=\"aqua-layout horizontal justify-start menu-paragraph\"><img data-v-8adc6fed=\"\" class=\"menu-svg\" src=\"assets/images/icon-lock.svg\" role=\"img\" alt=\"lock image\" aria-hidden=\"true\">                 <div data-v-8adc6fed=\"\" tabindex=\"0\" aria-label=\"Secure .gov websites use HTTPS. A lock or https:// means youâ\\x80\\x99ve safely connected to the                 .gov website. Share sensitive information only on official, secure                 websites.\"><strong data-v-8adc6fed=\"\"> Secure .gov websites use HTTPS </strong>                 <br data-v-8adc6fed=\"\"> A <strong data-v-8adc6fed=\"\">lock</strong> ( <img data-v-8adc6fed=\"\" class=\"menu-lock\" src=\"assets/images/lock.svg\" role=\"img\" alt=\"lock image\" aria-hidden=\"true\"> ) or <strong data-v-8adc6fed=\"\">https://</strong> means you&lsquo;ve safely connected to the .gov website. Share sensitive information only on official, secure websites. </div>             </div>         </div>     </div>     <div data-v-beed8774=\"\" data-v-2f72e816=\"\" role=\"banner\" class=\"AppHeader noprint\" aqua-relative=\"\">         <div data-v-beed8774=\"\" class=\"aqua-layout horizontal align-center justify-center\"><!---->             <div data-v-beed8774=\"\" class=\"aqua-flex\" style=\"flex: 0 0 auto;\">                 <div data-v-beed8774=\"\" class=\"aqua-layout vertical\">                     <div data-v-beed8774=\"\" class=\"logoArea\">                         <a data-v-fb9b02c5=\"\" data-v-beed8774=\"\" href=\"/\" class=\"\" id=\"census-home-link\">                             <div data-v-fb9b02c5=\"\" style=\"display: none;\"></div>                             <img data-v-beed8774=\"\" class=\"header-logo\" src=\"assets/images/census-logo-gray.svg\" alt=\"United States Census Bureau - Census Data Homepage\">                         </a>                     </div>                 </div>             </div><!----><!---->             <div data-v-beed8774=\"\" class=\"aqua-layout vertical\"></div>         </div>     </div> </div> </header> <div class=\"flex-container content\">     <div class=\"content-wrap center\">         <h1>Invalid Key</h1>         <p>             A valid <em>key</em> must be included with each data API request.             You included a key with this request, however, it is not valid.             Please check your key and try again.         </p>         <p>             If you do not have a key you may sign up for one <a href=\"key_signup.html\">here</a>.         </p>     </div>       </div>  <div data-v-56f1d3f7=\"\" class=\"aqua-flex\" style=\"flex: 0 0 auto;\">     <footer data-v-db923c0a=\"\" data-v-56f1d3f7=\"\" class=\"PageFooter\">         <div data-v-db923c0a=\"\" class=\"aqua-layout align-center justify-center links aqua-text-caption\">             <a data-v-db923c0a=\"\" target=\"_blank\" href=\"https://www.census.gov/about/policies/section-508.html\">Accessibility</a>             <span data-v-db923c0a=\"\" aria-hidden=\"true\">&nbsp;|&nbsp;</span>             <a data-v-db923c0a=\"\" target=\"_blank\" href=\"https://www.census.gov/quality/\">Information Quality</a>             <span data-v-db923c0a=\"\" aria-hidden=\"true\">&nbsp;|&nbsp;</span>             <a data-v-db923c0a=\"\" target=\"_blank\" href=\"https://www.census.gov/foia/\">FOIA</a>             <span data-v-db923c0a=\"\" aria-hidden=\"true\">&nbsp;|&nbsp;</span>             <a data-v-db923c0a=\"\" target=\"_blank\" href=\"https://www.census.gov/privacy/\">Data Protection and Privacy Policy</a>             <span data-v-db923c0a=\"\" aria-hidden=\"true\">&nbsp;|&nbsp;</span>             <a data-v-db923c0a=\"\" target=\"_blank\" href=\"https://www.commerce.gov/\">U.S. Department of Commerce</a>             <span data-v-db923c0a=\"\" aria-hidden=\"true\">&nbsp;|&nbsp;</span>             <a data-v-db923c0a=\"\" target=\"_blank\" href=\"https://www2.census.gov/data/api-documentation/data-census-gov-release-notes.pdf?#\">Release Notes</a>         </div>     </footer> </div>       </body> </html>'"
     ]
    }
   ],
   "source": [
    "for year in range(2005,2020):\n",
    "    print('collecting data in year of: ',year)\n",
    "    for data in c.acs1.get('B19013_001E',{'for': 'state:*'},year=year):\n",
    "        \n",
    "        sql = f\"\"\"insert into income (fips,income,year) \n",
    "            values ('{data['state']}',{data['B19013_001E']},{year}) \"\"\"\n",
    "#         print(sql)\n",
    "        cur.execute(sql)\n",
    "    conn.commit()\n"
   ]
  },
  {
   "cell_type": "markdown",
   "id": "64464537-b6fd-4816-8a1f-520579a25cb5",
   "metadata": {},
   "source": [
    "## Close Dabase Connection"
   ]
  },
  {
   "cell_type": "code",
   "execution_count": 18,
   "id": "bf7f3c2c-75ae-4266-a951-97ee757ffc29",
   "metadata": {
    "tags": []
   },
   "outputs": [],
   "source": [
    "cur.close()\n",
    "conn.close()"
   ]
  },
  {
   "cell_type": "code",
   "execution_count": null,
   "id": "19e641e2-0b7e-418b-808d-25e087da1772",
   "metadata": {},
   "outputs": [],
   "source": []
  },
  {
   "cell_type": "code",
   "execution_count": null,
   "id": "eebb8432-5afa-4376-93ec-cd5400dd5a20",
   "metadata": {},
   "outputs": [],
   "source": []
  }
 ],
 "metadata": {
  "kernelspec": {
   "display_name": "conda_python3",
   "language": "python",
   "name": "conda_python3"
  },
  "language_info": {
   "codemirror_mode": {
    "name": "ipython",
    "version": 3
   },
   "file_extension": ".py",
   "mimetype": "text/x-python",
   "name": "python",
   "nbconvert_exporter": "python",
   "pygments_lexer": "ipython3",
   "version": "3.10.18"
  }
 },
 "nbformat": 4,
 "nbformat_minor": 5
}
